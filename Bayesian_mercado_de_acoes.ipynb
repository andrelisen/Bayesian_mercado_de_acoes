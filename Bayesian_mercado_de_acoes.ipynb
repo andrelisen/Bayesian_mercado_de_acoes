{
 "cells": [
  {
   "cell_type": "code",
   "execution_count": 2,
   "metadata": {},
   "outputs": [],
   "source": [
    "import math\n",
    "from pomegranate import *"
   ]
  },
  {
   "cell_type": "code",
   "execution_count": 24,
   "metadata": {},
   "outputs": [
    {
     "name": "stdout",
     "output_type": "stream",
     "text": "Column names are: Date, Open, High, Low, Close, Adj Close, Volume\nProcessed 252 lines.\n"
    }
   ],
   "source": [
    "import csv\n",
    "\n",
    "with open('INTC.csv') as csv_file:\n",
    "    csv_reader = csv.reader(csv_file, delimiter=',')\n",
    "    line_count = 0\n",
    "    aberturas = [] # lista para guardar os valores de abertura\n",
    "    fechamentos = [] # lista para os fechamentos\n",
    "    \n",
    "    for row in csv_reader:\n",
    "        if line_count == 0:\n",
    "            print(f'Column names are: {\", \".join(row)}')\n",
    "            line_count += 1\n",
    "        else:\n",
    "            #print(row)\n",
    "            aberturas.append(row[1])\n",
    "            fechamentos.append(row[4])\n",
    "            line_count += 1\n",
    "    print(f'Processed {line_count} lines.')"
   ]
  },
  {
   "cell_type": "code",
   "execution_count": 26,
   "metadata": {},
   "outputs": [],
   "source": [
    "#print(aberturas)"
   ]
  },
  {
   "cell_type": "code",
   "execution_count": 5,
   "metadata": {},
   "outputs": [],
   "source": [
    "#print(fechamentos)"
   ]
  },
  {
   "cell_type": "code",
   "execution_count": 27,
   "metadata": {},
   "outputs": [
    {
     "name": "stdout",
     "output_type": "stream",
     "text": "0.5378486055776892\n0.46215139442231074\n"
    }
   ],
   "source": [
    "# calculo da probabilidade de subir\n",
    "count_subidas = 0\n",
    "count_descidas = 0\n",
    "for i in range(0, line_count-1): #contagem do número de dias que valor da ação subiu\n",
    "    if aberturas[i] < fechamentos[i]:\n",
    "        count_subidas += 1\n",
    "    else:                        #contagem do número de descidas\n",
    "        count_descidas += 1\n",
    "        \n",
    "prob_subir = count_subidas/(line_count-1) #P(Subir)\n",
    "prob_descer = count_descidas/(line_count-1) #P(Descer)\n",
    "\n",
    "# probabilidade de fechar um dia qualquer em alta ou queda\n",
    "print(prob_subir)\n",
    "print(prob_descer)"
   ]
  },
  {
   "cell_type": "code",
   "execution_count": 29,
   "metadata": {},
   "outputs": [],
   "source": [
    "estado_hoje = DiscreteDistribution( { 'prob_subir': prob_subir, 'prob_descer': prob_descer} )"
   ]
  },
  {
   "cell_type": "code",
   "execution_count": 31,
   "metadata": {},
   "outputs": [],
   "source": [
    "#print(estado_hoje)"
   ]
  },
  {
   "cell_type": "code",
   "execution_count": 32,
   "metadata": {},
   "outputs": [],
   "source": [
    "# Como não se sabe o que ocorrerá, assume-se igual probabilidade\n",
    "estado_amanha = DiscreteDistribution( { 'prob_subir': 0.5, 'prob_descer': 0.5 } )"
   ]
  },
  {
   "cell_type": "code",
   "execution_count": 34,
   "metadata": {},
   "outputs": [],
   "source": [
    "#print(estado_amanha)"
   ]
  },
  {
   "cell_type": "code",
   "execution_count": 36,
   "metadata": {},
   "outputs": [
    {
     "name": "stdout",
     "output_type": "stream",
     "text": "0.2689243027888446\n0.23107569721115537\n0.7310756972111554\n0.7689243027888446\n"
    }
   ],
   "source": [
    "#O bloco abaixo realiza o cálculo das probabilidades condicionais dado que:\n",
    "#prob1 = P(SubirAmanhã|SubiuHoje)\n",
    "#prob2 = P(SubirAmanhã|DesceuHoje)\n",
    "#prob3 = P(DescerAmanhã|DesceuHoje)\n",
    "#prob4 = P(DescerAmanhã|SubiuHoje)\n",
    "\n",
    "prob1 = 0.5 * prob_subir\n",
    "prob2 = 0.5 * prob_descer\n",
    "prob3 = 1 - prob1\n",
    "prob4 = 1 - prob2\n",
    "\n",
    "print(prob1)\n",
    "print(prob2)\n",
    "print(prob3)\n",
    "print(prob4)"
   ]
  },
  {
   "cell_type": "code",
   "execution_count": 40,
   "metadata": {},
   "outputs": [],
   "source": [
    "# Tabela de probabilidades condicionais\n",
    "previsao_amanha = ConditionalProbabilityTable(\n",
    "    [\n",
    "        [ 'prob_subir', 'prob_subir', prob1 ],\n",
    "        [ 'prob_subir', 'prob_descer', prob2 ],\n",
    "        [ 'prob_descer', 'prob_descer', prob3 ],\n",
    "        [ 'prob_descer', 'prob_subir', prob4 ],\n",
    "    ],\n",
    "    [estado_hoje, estado_amanha]    \n",
    ")"
   ]
  },
  {
   "cell_type": "code",
   "execution_count": 46,
   "metadata": {},
   "outputs": [
    {
     "ename": "KeyError",
     "evalue": "('prob_subir', 'prob_subir', 'prob_subir')",
     "output_type": "error",
     "traceback": [
      "\u001b[1;31m---------------------------------------------------------------------------\u001b[0m",
      "\u001b[1;31mKeyError\u001b[0m                                  Traceback (most recent call last)",
      "\u001b[1;32m<ipython-input-46-5a6ad9fab586>\u001b[0m in \u001b[0;36m<module>\u001b[1;34m\u001b[0m\n\u001b[0;32m      8\u001b[0m \u001b[0mnetwork\u001b[0m\u001b[1;33m.\u001b[0m\u001b[0madd_edge\u001b[0m\u001b[1;33m(\u001b[0m\u001b[0ms1\u001b[0m\u001b[1;33m,\u001b[0m \u001b[0ms2\u001b[0m\u001b[1;33m)\u001b[0m \u001b[1;31m# estado_hoje é pai de amanhã\u001b[0m\u001b[1;33m\u001b[0m\u001b[1;33m\u001b[0m\u001b[0m\n\u001b[0;32m      9\u001b[0m \u001b[0mnetwork\u001b[0m\u001b[1;33m.\u001b[0m\u001b[0madd_edge\u001b[0m\u001b[1;33m(\u001b[0m\u001b[0ms2\u001b[0m\u001b[1;33m,\u001b[0m \u001b[0ms3\u001b[0m\u001b[1;33m)\u001b[0m\u001b[1;33m\u001b[0m\u001b[1;33m\u001b[0m\u001b[0m\n\u001b[1;32m---> 10\u001b[1;33m \u001b[0mnetwork\u001b[0m\u001b[1;33m.\u001b[0m\u001b[0mbake\u001b[0m\u001b[1;33m(\u001b[0m\u001b[1;33m)\u001b[0m\u001b[1;33m\u001b[0m\u001b[1;33m\u001b[0m\u001b[0m\n\u001b[0m",
      "\u001b[1;32m~\\Anaconda3\\lib\\site-packages\\pomegranate\\BayesianNetwork.pyx\u001b[0m in \u001b[0;36mpomegranate.BayesianNetwork.BayesianNetwork.bake\u001b[1;34m()\u001b[0m\n",
      "\u001b[1;32m~\\Anaconda3\\lib\\site-packages\\pomegranate\\distributions\\ConditionalProbabilityTable.pyx\u001b[0m in \u001b[0;36mpomegranate.distributions.ConditionalProbabilityTable.ConditionalProbabilityTable.bake\u001b[1;34m()\u001b[0m\n",
      "\u001b[1;31mKeyError\u001b[0m: ('prob_subir', 'prob_subir', 'prob_subir')"
     ]
    }
   ],
   "source": [
    "s1 = State( estado_hoje, name=\"estado_hoje\" )\n",
    "s2 = State( estado_amanha, name=\"estado_amanha\" )\n",
    "s3 = State( previsao_amanha, name=\"previsao_amanha\" )\n",
    " \n",
    "#Building the Bayesian Network\n",
    "network = BayesianNetwork( \"Teste...\" )\n",
    "network.add_states(s1, s2, s3)\n",
    "network.add_edge(s1, s2) # estado_hoje é pai de amanhã\n",
    "network.add_edge(s2, s3)\n",
    "network.bake()"
   ]
  },
  {
   "cell_type": "code",
   "execution_count": 47,
   "metadata": {},
   "outputs": [],
   "source": [
    "#print(network)"
   ]
  },
  {
   "cell_type": "code",
   "execution_count": 48,
   "metadata": {},
   "outputs": [
    {
     "ename": "AttributeError",
     "evalue": "'NoneType' object has no attribute 'log_probability'",
     "output_type": "error",
     "traceback": [
      "\u001b[1;31m---------------------------------------------------------------------------\u001b[0m",
      "\u001b[1;31mAttributeError\u001b[0m                            Traceback (most recent call last)",
      "\u001b[1;32m<ipython-input-48-088602b42fea>\u001b[0m in \u001b[0;36m<module>\u001b[1;34m\u001b[0m\n\u001b[1;32m----> 1\u001b[1;33m \u001b[0mbeliefs\u001b[0m \u001b[1;33m=\u001b[0m \u001b[0mnetwork\u001b[0m\u001b[1;33m.\u001b[0m\u001b[0mpredict_proba\u001b[0m\u001b[1;33m(\u001b[0m\u001b[1;33m{\u001b[0m\u001b[1;34m'estado_amanha'\u001b[0m \u001b[1;33m:\u001b[0m \u001b[1;34m'prob_subir'\u001b[0m\u001b[1;33m,\u001b[0m \u001b[1;34m'previsao_amanha'\u001b[0m \u001b[1;33m:\u001b[0m \u001b[1;34m'prob_subir'\u001b[0m\u001b[1;33m}\u001b[0m\u001b[1;33m)\u001b[0m\u001b[1;33m\u001b[0m\u001b[1;33m\u001b[0m\u001b[0m\n\u001b[0m\u001b[0;32m      2\u001b[0m \u001b[0mprint\u001b[0m\u001b[1;33m(\u001b[0m\u001b[1;34m\"n\"\u001b[0m\u001b[1;33m.\u001b[0m\u001b[0mjoin\u001b[0m\u001b[1;33m(\u001b[0m \u001b[1;34m\"{}t{}\"\u001b[0m\u001b[1;33m.\u001b[0m\u001b[0mformat\u001b[0m\u001b[1;33m(\u001b[0m \u001b[0mstate\u001b[0m\u001b[1;33m.\u001b[0m\u001b[0mname\u001b[0m\u001b[1;33m,\u001b[0m \u001b[0mstr\u001b[0m\u001b[1;33m(\u001b[0m\u001b[0mbelief\u001b[0m\u001b[1;33m)\u001b[0m \u001b[1;33m)\u001b[0m \u001b[1;32mfor\u001b[0m \u001b[0mstate\u001b[0m\u001b[1;33m,\u001b[0m \u001b[0mbelief\u001b[0m \u001b[1;32min\u001b[0m \u001b[0mzip\u001b[0m\u001b[1;33m(\u001b[0m \u001b[0mnetwork\u001b[0m\u001b[1;33m.\u001b[0m\u001b[0mstates\u001b[0m\u001b[1;33m,\u001b[0m \u001b[0mbeliefs\u001b[0m \u001b[1;33m)\u001b[0m\u001b[1;33m)\u001b[0m\u001b[1;33m)\u001b[0m\u001b[1;33m\u001b[0m\u001b[1;33m\u001b[0m\u001b[0m\n",
      "\u001b[1;32m~\\Anaconda3\\lib\\site-packages\\pomegranate\\BayesianNetwork.pyx\u001b[0m in \u001b[0;36mpomegranate.BayesianNetwork.BayesianNetwork.predict_proba\u001b[1;34m()\u001b[0m\n",
      "\u001b[1;32m~\\Anaconda3\\lib\\site-packages\\pomegranate\\FactorGraph.pyx\u001b[0m in \u001b[0;36mpomegranate.FactorGraph.FactorGraph.predict_proba\u001b[1;34m()\u001b[0m\n",
      "\u001b[1;32m~\\Anaconda3\\lib\\site-packages\\pomegranate\\distributions\\JointProbabilityTable.pyx\u001b[0m in \u001b[0;36mpomegranate.distributions.JointProbabilityTable.JointProbabilityTable.marginal\u001b[1;34m()\u001b[0m\n",
      "\u001b[1;31mAttributeError\u001b[0m: 'NoneType' object has no attribute 'log_probability'"
     ]
    }
   ],
   "source": [
    "beliefs = network.predict_proba({'estado_amanha' : 'prob_subir', 'previsao_amanha' : 'prob_subir'})\n",
    "print(\"n\".join( \"{}t{}\".format( state.name, str(belief) ) for state, belief in zip( network.states, beliefs )))"
   ]
  },
  {
   "cell_type": "code",
   "execution_count": null,
   "metadata": {},
   "outputs": [],
   "source": []
  }
 ],
 "metadata": {
  "kernelspec": {
   "display_name": "Python 3",
   "language": "python",
   "name": "python3"
  },
  "language_info": {
   "codemirror_mode": {
    "name": "ipython",
    "version": 3
   },
   "file_extension": ".py",
   "mimetype": "text/x-python",
   "name": "python",
   "nbconvert_exporter": "python",
   "pygments_lexer": "ipython3",
   "version": "3.7.3"
  }
 },
 "nbformat": 4,
 "nbformat_minor": 2
}
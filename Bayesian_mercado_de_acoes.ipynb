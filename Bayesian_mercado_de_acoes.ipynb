{
 "cells": [
  {
   "cell_type": "code",
   "execution_count": 2,
   "metadata": {},
   "outputs": [],
   "source": [
    "import math\n",
    "from pomegranate import *"
   ]
  },
  {
   "cell_type": "code",
   "execution_count": 24,
   "metadata": {},
   "outputs": [
    {
     "name": "stdout",
     "output_type": "stream",
     "text": [
      "Column names are: Date, Open, High, Low, Close, Adj Close, Volume\n",
      "Processed 252 lines.\n"
     ]
    }
   ],
   "source": [
    "import csv\n",
    "\n",
    "with open('INTC.csv') as csv_file:\n",
    "    csv_reader = csv.reader(csv_file, delimiter=',')\n",
    "    line_count = 0\n",
    "    aberturas = []\n",
    "    fechamentos = []\n",
    "    \n",
    "    for row in csv_reader:\n",
    "        if line_count == 0:\n",
    "            print(f'Column names are: {\", \".join(row)}')\n",
    "            line_count += 1\n",
    "        else:\n",
    "            #print(row)\n",
    "            aberturas.append(row[1])\n",
    "            fechamentos.append(row[4])\n",
    "            line_count += 1\n",
    "    print(f'Processed {line_count} lines.')"
   ]
  },
  {
   "cell_type": "code",
   "execution_count": 20,
   "metadata": {},
   "outputs": [],
   "source": [
    "#print(aberturas)"
   ]
  },
  {
   "cell_type": "code",
   "execution_count": 21,
   "metadata": {},
   "outputs": [],
   "source": [
    "#print(fechamentos)"
   ]
  },
  {
   "cell_type": "code",
   "execution_count": 33,
   "metadata": {},
   "outputs": [
    {
     "name": "stdout",
     "output_type": "stream",
     "text": [
      "0.5378486055776892\n"
     ]
    }
   ],
   "source": [
    "# calculo da probabilidade de subir\n",
    "count = 0\n",
    "\n",
    "for i in range(0, line_count-1):\n",
    "    if aberturas[i] < fechamentos[i]:\n",
    "        count += 1\n",
    "        \n",
    "prob_subir = count/(line_count-1)\n",
    "\n",
    "print(prob_subir)"
   ]
  },
  {
   "cell_type": "code",
   "execution_count": 26,
   "metadata": {},
   "outputs": [],
   "source": [
    "estado_hoje = DiscreteDistribution( { 'prob_subir': prob_subir, 'prob_descer': 1-prob_subir} )"
   ]
  },
  {
   "cell_type": "code",
   "execution_count": 30,
   "metadata": {},
   "outputs": [],
   "source": [
    "#print(estado_hoje)"
   ]
  },
  {
   "cell_type": "code",
   "execution_count": 28,
   "metadata": {},
   "outputs": [],
   "source": [
    "estado_amanha = DiscreteDistribution( { 'prob_subir': 0.5, 'prob_descer': 0.5 } )"
   ]
  },
  {
   "cell_type": "code",
   "execution_count": 31,
   "metadata": {},
   "outputs": [],
   "source": [
    "#print(estado_amanha)"
   ]
  },
  {
   "cell_type": "code",
   "execution_count": 1,
   "metadata": {},
   "outputs": [
    {
     "ename": "NameError",
     "evalue": "name 'ConditionalProbabilityTable' is not defined",
     "output_type": "error",
     "traceback": [
      "\u001b[1;31m---------------------------------------------------------------------------\u001b[0m",
      "\u001b[1;31mNameError\u001b[0m                                 Traceback (most recent call last)",
      "\u001b[1;32m<ipython-input-1-68dc2a30baab>\u001b[0m in \u001b[0;36m<module>\u001b[1;34m\u001b[0m\n\u001b[1;32m----> 1\u001b[1;33m tabela = ConditionalProbabilityTable(\n\u001b[0m\u001b[0;32m      2\u001b[0m     [\n\u001b[0;32m      3\u001b[0m         \u001b[1;33m[\u001b[0m \u001b[1;34m'prob_subir'\u001b[0m\u001b[1;33m,\u001b[0m \u001b[1;34m'prob_subir'\u001b[0m\u001b[1;33m,\u001b[0m \u001b[1;36m0.0\u001b[0m \u001b[1;33m]\u001b[0m\u001b[1;33m,\u001b[0m\u001b[1;33m\u001b[0m\u001b[1;33m\u001b[0m\u001b[0m\n\u001b[0;32m      4\u001b[0m         \u001b[1;33m[\u001b[0m \u001b[1;34m'prob_subir'\u001b[0m\u001b[1;33m,\u001b[0m \u001b[1;34m'prob_descer'\u001b[0m\u001b[1;33m,\u001b[0m \u001b[1;36m0.5\u001b[0m \u001b[1;33m]\u001b[0m\u001b[1;33m,\u001b[0m\u001b[1;33m\u001b[0m\u001b[1;33m\u001b[0m\u001b[0m\n\u001b[0;32m      5\u001b[0m         \u001b[1;33m[\u001b[0m \u001b[1;34m'prob_descer'\u001b[0m\u001b[1;33m,\u001b[0m \u001b[1;34m'prob_descer'\u001b[0m\u001b[1;33m,\u001b[0m \u001b[1;36m0.5\u001b[0m \u001b[1;33m]\u001b[0m\u001b[1;33m,\u001b[0m\u001b[1;33m\u001b[0m\u001b[1;33m\u001b[0m\u001b[0m\n",
      "\u001b[1;31mNameError\u001b[0m: name 'ConditionalProbabilityTable' is not defined"
     ]
    }
   ],
   "source": [
    "tabela = ConditionalProbabilityTable(\n",
    "    [\n",
    "        [ 'prob_subir', 'prob_subir', 0.0 ],\n",
    "        [ 'prob_subir', 'prob_descer', 0.5 ],\n",
    "        [ 'prob_descer', 'prob_descer', 0.5 ],\n",
    "        [ 'prob_descer', 'prob_subir', 0.0 ],\n",
    "    ],\n",
    "    [estado_hoje, estado_amanha]\n",
    ")"
   ]
  },
  {
   "cell_type": "code",
   "execution_count": null,
   "metadata": {},
   "outputs": [],
   "source": []
  }
 ],
 "metadata": {
  "kernelspec": {
   "display_name": "Python 3",
   "language": "python",
   "name": "python3"
  },
  "language_info": {
   "codemirror_mode": {
    "name": "ipython",
    "version": 3
   },
   "file_extension": ".py",
   "mimetype": "text/x-python",
   "name": "python",
   "nbconvert_exporter": "python",
   "pygments_lexer": "ipython3",
   "version": "3.7.3"
  }
 },
 "nbformat": 4,
 "nbformat_minor": 2
}
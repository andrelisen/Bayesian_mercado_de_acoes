{
 "cells": [
  {
   "cell_type": "code",
   "execution_count": 2,
   "metadata": {},
   "outputs": [],
   "source": [
    "import math\n",
    "from pomegranate import *"
   ]
  },
  {
   "cell_type": "code",
   "execution_count": 3,
   "metadata": {},
   "outputs": [
    {
     "name": "stdout",
     "output_type": "stream",
     "text": [
      "Column names are: Date, Open, High, Low, Close, Adj Close, Volume\n",
      "Processed 252 lines.\n"
     ]
    }
   ],
   "source": [
    "import csv\n",
    "\n",
    "with open('INTC.csv') as csv_file:\n",
    "    csv_reader = csv.reader(csv_file, delimiter=',')\n",
    "    line_count = 0\n",
    "    aberturas = []\n",
    "    fechamentos = []\n",
    "    \n",
    "    for row in csv_reader:\n",
    "        if line_count == 0:\n",
    "            print(f'Column names are: {\", \".join(row)}')\n",
    "            line_count += 1\n",
    "        else:\n",
    "            #print(row)\n",
    "            aberturas.append(row[1])\n",
    "            fechamentos.append(row[4])\n",
    "            line_count += 1\n",
    "    print(f'Processed {line_count} lines.')"
   ]
  },
  {
   "cell_type": "code",
   "execution_count": 4,
   "metadata": {},
   "outputs": [],
   "source": [
    "#print(aberturas)"
   ]
  },
  {
   "cell_type": "code",
   "execution_count": 5,
   "metadata": {},
   "outputs": [],
   "source": [
    "#print(fechamentos)"
   ]
  },
  {
   "cell_type": "code",
   "execution_count": 13,
   "metadata": {},
   "outputs": [
    {
     "name": "stdout",
     "output_type": "stream",
     "text": [
      "0.5378486055776892\n",
      "0.46215139442231074\n"
     ]
    }
   ],
   "source": [
    "# calculo da probabilidade de subir\n",
    "count_subidas = 0\n",
    "count_descidas = 0\n",
    "for i in range(0, line_count-1): #contagem do número de subidas\n",
    "    if aberturas[i] < fechamentos[i]:\n",
    "        count_subidas += 1\n",
    "    else:                        #contagem do número de descidas\n",
    "        count_descidas += 1\n",
    "        \n",
    "prob_subir = count_subidas/(line_count-1) #P(Subir)\n",
    "prob_descer = count_descidas/(line_count-1) #P(Descer)\n",
    "\n",
    "print(prob_subir) \n",
    "print(prob_descer)"
   ]
  },
  {
   "cell_type": "code",
   "execution_count": 7,
   "metadata": {},
   "outputs": [],
   "source": [
    "estado_hoje = DiscreteDistribution( { 'prob_subir': prob_subir, 'prob_descer': prob_descer} )"
   ]
  },
  {
   "cell_type": "code",
   "execution_count": 8,
   "metadata": {},
   "outputs": [],
   "source": [
    "#print(estado_hoje)"
   ]
  },
  {
   "cell_type": "code",
   "execution_count": 9,
   "metadata": {},
   "outputs": [],
   "source": [
    "estado_amanha = DiscreteDistribution( { 'prob_subir': 0.5, 'prob_descer': 0.5 } )"
   ]
  },
  {
   "cell_type": "code",
   "execution_count": 10,
   "metadata": {},
   "outputs": [],
   "source": [
    "#print(estado_amanha)"
   ]
  },
  {
   "cell_type": "code",
   "execution_count": 15,
   "metadata": {
    "scrolled": true
   },
   "outputs": [
    {
     "name": "stdout",
     "output_type": "stream",
     "text": [
      "0.9296296296296297\n",
      "1.081896551724138\n",
      "0.0703703703703703\n",
      "-0.0818965517241379\n"
     ]
    }
   ],
   "source": [
    "#O bloco abaixo realiza o cálculo das probabilidades condicionais dado que:\n",
    "#prob1 = P(SubirAmanhã|SubiuHoje) = probabilidade de subir amanhã e subir hoje / probabilidade de subir hoje\n",
    "#prob2 = P(SubirAmanhã|DesceuHoje) = probabilidade de subir amanhã e descer hoje / probabilidade de descer hoje\n",
    "#prob3 = P(DescerAmanhã|DesceuHoje) = probabilidade de descer amanhã e descer hoje / probabilidade de descer hoje\n",
    "#prob4 = P(DescerAmanhã|SubiuHoje) = probabilidade de descer amanhã e subir hoje / probabilidade de subir hoje \n",
    "\n",
    "prob1 = 0.5 / prob_subir\n",
    "prob2 = 0.5/ prob_descer\n",
    "prob3 = 1 - prob1\n",
    "prob4 = 1 - prob2\n",
    "\n",
    "print(prob1)\n",
    "print(prob2)\n",
    "print(prob3)\n",
    "print(prob4)"
   ]
  },
  {
   "cell_type": "code",
   "execution_count": 1,
   "metadata": {},
   "outputs": [
    {
     "ename": "NameError",
     "evalue": "name 'ConditionalProbabilityTable' is not defined",
     "output_type": "error",
     "traceback": [
      "\u001b[1;31m---------------------------------------------------------------------------\u001b[0m",
      "\u001b[1;31mNameError\u001b[0m                                 Traceback (most recent call last)",
      "\u001b[1;32m<ipython-input-1-68dc2a30baab>\u001b[0m in \u001b[0;36m<module>\u001b[1;34m\u001b[0m\n\u001b[1;32m----> 1\u001b[1;33m tabela = ConditionalProbabilityTable(\n\u001b[0m\u001b[0;32m      2\u001b[0m     [\n\u001b[0;32m      3\u001b[0m         \u001b[1;33m[\u001b[0m \u001b[1;34m'prob_subir'\u001b[0m\u001b[1;33m,\u001b[0m \u001b[1;34m'prob_subir'\u001b[0m\u001b[1;33m,\u001b[0m \u001b[1;36m0.0\u001b[0m \u001b[1;33m]\u001b[0m\u001b[1;33m,\u001b[0m\u001b[1;33m\u001b[0m\u001b[1;33m\u001b[0m\u001b[0m\n\u001b[0;32m      4\u001b[0m         \u001b[1;33m[\u001b[0m \u001b[1;34m'prob_subir'\u001b[0m\u001b[1;33m,\u001b[0m \u001b[1;34m'prob_descer'\u001b[0m\u001b[1;33m,\u001b[0m \u001b[1;36m0.5\u001b[0m \u001b[1;33m]\u001b[0m\u001b[1;33m,\u001b[0m\u001b[1;33m\u001b[0m\u001b[1;33m\u001b[0m\u001b[0m\n\u001b[0;32m      5\u001b[0m         \u001b[1;33m[\u001b[0m \u001b[1;34m'prob_descer'\u001b[0m\u001b[1;33m,\u001b[0m \u001b[1;34m'prob_descer'\u001b[0m\u001b[1;33m,\u001b[0m \u001b[1;36m0.5\u001b[0m \u001b[1;33m]\u001b[0m\u001b[1;33m,\u001b[0m\u001b[1;33m\u001b[0m\u001b[1;33m\u001b[0m\u001b[0m\n",
      "\u001b[1;31mNameError\u001b[0m: name 'ConditionalProbabilityTable' is not defined"
     ]
    }
   ],
   "source": [
    "# A resposta de que a ação irá subiu ou descer amanhã, depende do dia atual\n",
    "tabela = ConditionalProbabilityTable(\n",
    "    [\n",
    "        [ 'prob_subir', 'prob_subir', 0.0 ],\n",
    "        [ 'prob_subir', 'prob_descer', 0.5 ],\n",
    "        [ 'prob_descer', 'prob_descer', 0.5 ],\n",
    "        [ 'prob_descer', 'prob_subir', 0.0 ],\n",
    "    ],\n",
    "    [estado_hoje, estado_amanha]\n",
    ")"
   ]
  },
  {
   "cell_type": "code",
   "execution_count": null,
   "metadata": {},
   "outputs": [],
   "source": []
  }
 ],
 "metadata": {
  "kernelspec": {
   "display_name": "Python 3",
   "language": "python",
   "name": "python3"
  },
  "language_info": {
   "codemirror_mode": {
    "name": "ipython",
    "version": 3
   },
   "file_extension": ".py",
   "mimetype": "text/x-python",
   "name": "python",
   "nbconvert_exporter": "python",
   "pygments_lexer": "ipython3",
   "version": "3.7.3"
  }
 },
 "nbformat": 4,
 "nbformat_minor": 2
}

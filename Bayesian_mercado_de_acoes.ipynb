{
 "cells": [
  {
   "cell_type": "code",
   "execution_count": 2,
   "metadata": {},
   "outputs": [],
   "source": [
    "import math\n",
    "from pomegranate import *"
   ]
  },
  {
   "cell_type": "code",
   "execution_count": 3,
   "metadata": {},
   "outputs": [
    {
     "name": "stdout",
     "output_type": "stream",
     "text": [
      "Column names are: Date, Open, High, Low, Close, Adj Close, Volume\n",
      "Processed 252 lines.\n"
     ]
    }
   ],
   "source": [
    "import csv\n",
    "\n",
    "with open('INTC.csv') as csv_file:\n",
    "    csv_reader = csv.reader(csv_file, delimiter=',')\n",
    "    line_count = 0\n",
    "    aberturas = []\n",
    "    fechamentos = []\n",
    "    \n",
    "    for row in csv_reader:\n",
    "        if line_count == 0:\n",
    "            print(f'Column names are: {\", \".join(row)}')\n",
    "            line_count += 1\n",
    "        else:\n",
    "            #print(row)\n",
    "            aberturas.append(row[1])\n",
    "            fechamentos.append(row[4])\n",
    "            line_count += 1\n",
    "    print(f'Processed {line_count} lines.')"
   ]
  },
  {
   "cell_type": "code",
   "execution_count": 4,
   "metadata": {},
   "outputs": [],
   "source": [
    "#print(aberturas)"
   ]
  },
  {
   "cell_type": "code",
   "execution_count": 5,
   "metadata": {},
   "outputs": [],
   "source": [
    "#print(fechamentos)"
   ]
  },
  {
   "cell_type": "code",
   "execution_count": 6,
   "metadata": {},
   "outputs": [
    {
     "name": "stdout",
     "output_type": "stream",
     "text": [
      "0.5378486055776892\n",
      "0.46215139442231074\n"
     ]
    }
   ],
   "source": [
    "# calculo da probabilidade de subir\n",
    "count_subidas = 0\n",
    "count_descidas = 0\n",
    "for i in range(0, line_count-1): #contagem do número de subidas\n",
    "    if aberturas[i] < fechamentos[i]:\n",
    "        count_subidas += 1\n",
    "    else:                        #contagem do número de descidas\n",
    "        count_descidas += 1\n",
    "        \n",
    "prob_subir = count_subidas/(line_count-1) #P(Subir)\n",
    "prob_descer = count_descidas/(line_count-1) #P(Descer)\n",
    "\n",
    "print(prob_subir) \n",
    "print(prob_descer)"
   ]
  },
  {
   "cell_type": "code",
   "execution_count": 7,
   "metadata": {},
   "outputs": [],
   "source": [
    "estado_hoje = DiscreteDistribution( { 'prob_subir': prob_subir, 'prob_descer': prob_descer} )"
   ]
  },
  {
   "cell_type": "code",
   "execution_count": 8,
   "metadata": {},
   "outputs": [],
   "source": [
    "#print(estado_hoje)"
   ]
  },
  {
   "cell_type": "code",
   "execution_count": 9,
   "metadata": {},
   "outputs": [],
   "source": [
    "estado_amanha = DiscreteDistribution( { 'prob_subir': 0.5, 'prob_descer': 0.5 } )"
   ]
  },
  {
   "cell_type": "code",
   "execution_count": 10,
   "metadata": {},
   "outputs": [],
   "source": [
    "#print(estado_amanha)"
   ]
  },
  {
   "cell_type": "code",
   "execution_count": 14,
   "metadata": {
    "scrolled": true
   },
   "outputs": [
    {
     "name": "stdout",
     "output_type": "stream",
     "text": [
      "0.2689243027888446\n",
      "0.23107569721115537\n",
      "0.7310756972111554\n",
      "0.7689243027888446\n"
     ]
    }
   ],
   "source": [
    "#O bloco abaixo realiza o cálculo das probabilidades condicionais dado que:\n",
    "#prob1 = P(SubirAmanhã|SubiuHoje)\n",
    "#prob2 = P(SubirAmanhã|DesceuHoje) \n",
    "#prob3 = P(DescerAmanhã|DesceuHoje)\n",
    "#prob4 = P(DescerAmanhã|SubiuHoje)  \n",
    "\n",
    "prob1 = 0.5 * prob_subir\n",
    "prob2 = 0.5 * prob_descer\n",
    "prob3 = 1 - prob1\n",
    "prob4 = 1 - prob2\n",
    "\n",
    "print(prob1)\n",
    "print(prob2)\n",
    "print(prob3)\n",
    "print(prob4)"
   ]
  },
  {
   "cell_type": "code",
   "execution_count": 16,
   "metadata": {},
   "outputs": [],
   "source": [
    "# A resposta de que a ação irá subiu ou descer amanhã, independe do dia atual\n",
    "tabela = ConditionalProbabilityTable(\n",
    "    [\n",
    "        [ 'prob_subir', 'prob_subir', prob1 ],\n",
    "        [ 'prob_subir', 'prob_descer', prob2 ],\n",
    "        [ 'prob_descer', 'prob_descer', prob3 ],\n",
    "        [ 'prob_descer', 'prob_subir', prob4 ],\n",
    "    ],\n",
    "    [estado_hoje, estado_amanha]\n",
    ")"
   ]
  }
 ],
 "metadata": {
  "kernelspec": {
   "display_name": "Python 3",
   "language": "python",
   "name": "python3"
  },
  "language_info": {
   "codemirror_mode": {
    "name": "ipython",
    "version": 3
   },
   "file_extension": ".py",
   "mimetype": "text/x-python",
   "name": "python",
   "nbconvert_exporter": "python",
   "pygments_lexer": "ipython3",
   "version": "3.7.3"
  }
 },
 "nbformat": 4,
 "nbformat_minor": 2
}

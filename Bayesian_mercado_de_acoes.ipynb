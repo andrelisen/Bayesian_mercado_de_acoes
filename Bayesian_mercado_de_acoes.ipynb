{
 "cells": [
  {
   "cell_type": "code",
   "execution_count": 1,
   "metadata": {},
   "outputs": [
    {
     "name": "stdout",
     "output_type": "stream",
     "text": [
      "Collecting pomegranate\n",
      "  Downloading https://files.pythonhosted.org/packages/8b/c0/022e74c1a4517ce6a7b835e456d96a81e3e249e1870f933acd1558446fad/pomegranate-0.11.2-cp37-cp37m-win_amd64.whl (4.7MB)\n",
      "Requirement already satisfied: numpy>=1.8.0 in c:\\users\\andre\\anaconda3\\lib\\site-packages (from pomegranate) (1.16.4)\n",
      "Requirement already satisfied: networkx>=2.0 in c:\\users\\andre\\anaconda3\\lib\\site-packages (from pomegranate) (2.3)\n",
      "Requirement already satisfied: scipy>=0.17.0 in c:\\users\\andre\\anaconda3\\lib\\site-packages (from pomegranate) (1.2.1)\n",
      "Requirement already satisfied: joblib>=0.9.0b4 in c:\\users\\andre\\anaconda3\\lib\\site-packages (from pomegranate) (0.13.2)\n",
      "Requirement already satisfied: pyyaml in c:\\users\\andre\\anaconda3\\lib\\site-packages (from pomegranate) (5.1.1)\n",
      "Requirement already satisfied: decorator>=4.3.0 in c:\\users\\andre\\anaconda3\\lib\\site-packages (from networkx>=2.0->pomegranate) (4.4.0)\n",
      "Installing collected packages: pomegranate\n",
      "Successfully installed pomegranate-0.11.2\n",
      "Note: you may need to restart the kernel to use updated packages.\n"
     ]
    }
   ],
   "source": [
    "pip install pomegranate"
   ]
  },
  {
   "cell_type": "code",
   "execution_count": null,
   "metadata": {},
   "outputs": [],
   "source": []
  }
 ],
 "metadata": {
  "kernelspec": {
   "display_name": "Python 3",
   "language": "python",
   "name": "python3"
  },
  "language_info": {
   "codemirror_mode": {
    "name": "ipython",
    "version": 3
   },
   "file_extension": ".py",
   "mimetype": "text/x-python",
   "name": "python",
   "nbconvert_exporter": "python",
   "pygments_lexer": "ipython3",
   "version": "3.7.3"
  }
 },
 "nbformat": 4,
 "nbformat_minor": 2
}
